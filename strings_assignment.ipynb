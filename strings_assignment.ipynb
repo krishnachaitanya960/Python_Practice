{
 "cells": [
  {
   "cell_type": "code",
   "execution_count": 61,
   "id": "5cf7a496",
   "metadata": {},
   "outputs": [
    {
     "data": {
      "text/plain": [
       "'krishna'"
      ]
     },
     "execution_count": 61,
     "metadata": {},
     "output_type": "execute_result"
    }
   ],
   "source": [
    "name=\"KRISHNA\"\n",
    "name.lower()"
   ]
  },
  {
   "cell_type": "code",
   "execution_count": null,
   "id": "f72fbd0e",
   "metadata": {},
   "outputs": [],
   "source": []
  },
  {
   "cell_type": "code",
   "execution_count": 62,
   "id": "6cf113e4",
   "metadata": {},
   "outputs": [
    {
     "name": "stdout",
     "output_type": "stream",
     "text": [
      "The original string is : PYTHON\n",
      "The alternate case string is : PyThOn\n"
     ]
    }
   ],
   "source": [
    "test_str = \"PYTHON\"\n",
    " \n",
    "# printing original string\n",
    "print(\"The original string is : \" + str(test_str))\n",
    " \n",
    "# Using upper() + lower() + loop\n",
    "# Alternate cases in String\n",
    "res = \"\"\n",
    "for idx in range(len(test_str)):\n",
    "    if not idx % 2:\n",
    "        res = res + test_str[idx].upper()\n",
    "    else:\n",
    "        res = res + test_str[idx].lower()\n",
    " \n",
    " # printing result\n",
    "print(\"The alternate case string is : \" + str(res))"
   ]
  },
  {
   "cell_type": "code",
   "execution_count": 63,
   "id": "6a6e4e1c",
   "metadata": {},
   "outputs": [
    {
     "name": "stdout",
     "output_type": "stream",
     "text": [
      "The original string is : PYTHON\n",
      "The alternate case string is : pYtHoN\n"
     ]
    }
   ],
   "source": [
    "a = \"PYTHON\"\n",
    "print(\"The original string is : \" + str(a)) \n",
    "res = ''\n",
    "for idx in range(len(a)):\n",
    "    if not idx % 2:\n",
    "        res = res + a[idx].lower()\n",
    "    else:\n",
    "        res = res + a[idx].upper()\n",
    "print(\"The alternate case string is : \" + str(res))"
   ]
  },
  {
   "cell_type": "code",
   "execution_count": 64,
   "id": "46440452",
   "metadata": {},
   "outputs": [
    {
     "name": "stdout",
     "output_type": "stream",
     "text": [
      "The original string is : python\n",
      "The alternate case string is : PyThOn\n"
     ]
    }
   ],
   "source": [
    "a = \"python\"\n",
    "print(\"The original string is : \" + str(a)) \n",
    "res = ''\n",
    "for idx in range(len(a)):\n",
    "    if not idx % 2:\n",
    "        res = res + a[idx].upper()\n",
    "    else:\n",
    "        res = res + a[idx].lower()\n",
    "print(\"The alternate case string is : \" + str(res))"
   ]
  },
  {
   "cell_type": "code",
   "execution_count": 65,
   "id": "418d2b71",
   "metadata": {},
   "outputs": [
    {
     "data": {
      "text/plain": [
       "'my mother’s name is anusha'"
      ]
     },
     "execution_count": 65,
     "metadata": {},
     "output_type": "execute_result"
    }
   ],
   "source": [
    "biodata= \"My name is krishna\", \"My age is 10\",\"My phone-no is 990990\",\"my father’s name is ram\",\n",
    "\"my mother’s name is anusha\"\n"
   ]
  },
  {
   "cell_type": "code",
   "execution_count": 66,
   "id": "d73de4dd",
   "metadata": {},
   "outputs": [
    {
     "name": "stdout",
     "output_type": "stream",
     "text": [
      "('My name is krishna', 'My age is 10', 'My phone-no is 990990', 'my father’s name is ram') "
     ]
    }
   ],
   "source": [
    "print(biodata,end=\" \")"
   ]
  },
  {
   "cell_type": "code",
   "execution_count": 67,
   "id": "0384df3a",
   "metadata": {},
   "outputs": [
    {
     "name": "stdout",
     "output_type": "stream",
     "text": [
      "Please enter your own String : \n",
      "Please enter your own Character : \n",
      "The total Number of Times    has Occurred =  0\n"
     ]
    }
   ],
   "source": [
    "string = input(\"Please enter your own String : \")\n",
    "char = input(\"Please enter your own Character : \")\n",
    "\n",
    "count = 0\n",
    "for i in range(len(string)):\n",
    "    if(string[i] == char):\n",
    "        count = count + 1\n",
    "\n",
    "print(\"The total Number of Times \", char, \" has Occurred = \" , count)\n"
   ]
  },
  {
   "cell_type": "code",
   "execution_count": 68,
   "id": "60d78a3a",
   "metadata": {},
   "outputs": [
    {
     "name": "stdout",
     "output_type": "stream",
     "text": [
      "Original Email: john@example.com\n",
      "Extract the name from the said Email address:\n",
      "john\n",
      "Original Email: raju@example.com\n",
      "Extract the name from the said Email address:\n",
      "raju\n",
      "Original Email: ram@example.com\n",
      "Extract the name from the said Email address:\n",
      "ram\n"
     ]
    }
   ],
   "source": [
    "def test(email_address):\n",
    "    r = email_address.index(\"@\")\n",
    "    return \"\".join(l for l in email_address[:r] if l.isalpha())\n",
    "\n",
    "email_address = \"john@example.com\"\n",
    "print(\"Original Email:\", email_address)\n",
    "print(\"Extract the name from the said Email address:\")\n",
    "a = print(test(email_address))\n",
    "\n",
    "email_address = \"raju@example.com\"\n",
    "print(\"Original Email:\", email_address)\n",
    "print(\"Extract the name from the said Email address:\")\n",
    "b = print(test(email_address))\n",
    "\n",
    "email_address = \"ram@example.com\"\n",
    "print(\"Original Email:\", email_address)\n",
    "print(\"Extract the name from the said Email address:\")\n",
    "c = print(test(email_address))\n"
   ]
  },
  {
   "cell_type": "code",
   "execution_count": 74,
   "id": "7f0f2ddd",
   "metadata": {},
   "outputs": [
    {
     "name": "stdout",
     "output_type": "stream",
     "text": [
      "\n",
      "After removing Vowels:   bcdfghjklmnpqrstvwxyz\n"
     ]
    }
   ],
   "source": [
    "string = (\"abcdefghijklmnopqrstuvwxyz\")\n",
    "vowels = ['a', 'e', 'i', 'o', 'u', 'A', 'E', 'I', 'O', 'U']\n",
    "result = \" \"\n",
    "for i in range(len(string)):\n",
    "    if string[i] not in vowels:\n",
    "        result = result + string[i]\n",
    "\n",
    "print(\"\\nAfter removing Vowels: \", result)"
   ]
  },
  {
   "cell_type": "code",
   "execution_count": 75,
   "id": "b6fc8ac5",
   "metadata": {},
   "outputs": [
    {
     "name": "stdout",
     "output_type": "stream",
     "text": [
      "1\n"
     ]
    }
   ],
   "source": [
    "string= \"Welcome to Innomatics. innomatics awesome, isn't it?\"\n",
    "print(string.count(\"innomatics\"))"
   ]
  },
  {
   "cell_type": "code",
   "execution_count": 78,
   "id": "54cb7f3f",
   "metadata": {},
   "outputs": [
    {
     "name": "stdout",
     "output_type": "stream",
     "text": [
      "0\n"
     ]
    }
   ],
   "source": [
    "a = \"mia khalifa sunn sunn sunn\"\n",
    "print(a.count(\"Sunn\"))"
   ]
  },
  {
   "cell_type": "code",
   "execution_count": null,
   "id": "beb33b6d",
   "metadata": {},
   "outputs": [],
   "source": []
  },
  {
   "cell_type": "code",
   "execution_count": null,
   "id": "77c2b3d6",
   "metadata": {},
   "outputs": [],
   "source": []
  },
  {
   "cell_type": "code",
   "execution_count": null,
   "id": "93daff26",
   "metadata": {},
   "outputs": [],
   "source": []
  }
 ],
 "metadata": {
  "kernelspec": {
   "display_name": "Python 3 (ipykernel)",
   "language": "python",
   "name": "python3"
  },
  "language_info": {
   "codemirror_mode": {
    "name": "ipython",
    "version": 3
   },
   "file_extension": ".py",
   "mimetype": "text/x-python",
   "name": "python",
   "nbconvert_exporter": "python",
   "pygments_lexer": "ipython3",
   "version": "3.9.12"
  }
 },
 "nbformat": 4,
 "nbformat_minor": 5
}
